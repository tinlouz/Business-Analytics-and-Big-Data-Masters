{
 "cells": [
  {
   "cell_type": "markdown",
   "metadata": {},
   "source": [
    "## Assignment 1: Titanic Missing Values\n",
    "### Martin Louzada"
   ]
  },
  {
   "cell_type": "code",
   "execution_count": 4,
   "metadata": {},
   "outputs": [],
   "source": [
    "# import libraries\n",
    "import pandas as pd\n",
    "import numpy as np\n",
    "import matplotlib.pyplot as plt\n",
    "import re as re"
   ]
  },
  {
   "cell_type": "code",
   "execution_count": 5,
   "metadata": {},
   "outputs": [
    {
     "data": {
      "text/html": [
       "<div>\n",
       "<style scoped>\n",
       "    .dataframe tbody tr th:only-of-type {\n",
       "        vertical-align: middle;\n",
       "    }\n",
       "\n",
       "    .dataframe tbody tr th {\n",
       "        vertical-align: top;\n",
       "    }\n",
       "\n",
       "    .dataframe thead th {\n",
       "        text-align: right;\n",
       "    }\n",
       "</style>\n",
       "<table border=\"1\" class=\"dataframe\">\n",
       "  <thead>\n",
       "    <tr style=\"text-align: right;\">\n",
       "      <th></th>\n",
       "      <th>Survived</th>\n",
       "      <th>Pclass</th>\n",
       "      <th>Name</th>\n",
       "      <th>Sex</th>\n",
       "      <th>Age</th>\n",
       "      <th>SibSp</th>\n",
       "      <th>Parch</th>\n",
       "      <th>Ticket</th>\n",
       "      <th>Fare</th>\n",
       "      <th>Cabin</th>\n",
       "      <th>Embarked</th>\n",
       "    </tr>\n",
       "    <tr>\n",
       "      <th>PassengerId</th>\n",
       "      <th></th>\n",
       "      <th></th>\n",
       "      <th></th>\n",
       "      <th></th>\n",
       "      <th></th>\n",
       "      <th></th>\n",
       "      <th></th>\n",
       "      <th></th>\n",
       "      <th></th>\n",
       "      <th></th>\n",
       "      <th></th>\n",
       "    </tr>\n",
       "  </thead>\n",
       "  <tbody>\n",
       "    <tr>\n",
       "      <th>1</th>\n",
       "      <td>0</td>\n",
       "      <td>3</td>\n",
       "      <td>Braund, Mr. Owen Harris</td>\n",
       "      <td>male</td>\n",
       "      <td>22.0</td>\n",
       "      <td>1</td>\n",
       "      <td>0</td>\n",
       "      <td>A/5 21171</td>\n",
       "      <td>7.2500</td>\n",
       "      <td>NaN</td>\n",
       "      <td>S</td>\n",
       "    </tr>\n",
       "    <tr>\n",
       "      <th>2</th>\n",
       "      <td>1</td>\n",
       "      <td>1</td>\n",
       "      <td>Cumings, Mrs. John Bradley (Florence Briggs Th...</td>\n",
       "      <td>female</td>\n",
       "      <td>38.0</td>\n",
       "      <td>1</td>\n",
       "      <td>0</td>\n",
       "      <td>PC 17599</td>\n",
       "      <td>71.2833</td>\n",
       "      <td>C85</td>\n",
       "      <td>C</td>\n",
       "    </tr>\n",
       "    <tr>\n",
       "      <th>3</th>\n",
       "      <td>1</td>\n",
       "      <td>3</td>\n",
       "      <td>Heikkinen, Miss. Laina</td>\n",
       "      <td>female</td>\n",
       "      <td>26.0</td>\n",
       "      <td>0</td>\n",
       "      <td>0</td>\n",
       "      <td>STON/O2. 3101282</td>\n",
       "      <td>7.9250</td>\n",
       "      <td>NaN</td>\n",
       "      <td>S</td>\n",
       "    </tr>\n",
       "    <tr>\n",
       "      <th>4</th>\n",
       "      <td>1</td>\n",
       "      <td>1</td>\n",
       "      <td>Futrelle, Mrs. Jacques Heath (Lily May Peel)</td>\n",
       "      <td>female</td>\n",
       "      <td>35.0</td>\n",
       "      <td>1</td>\n",
       "      <td>0</td>\n",
       "      <td>113803</td>\n",
       "      <td>53.1000</td>\n",
       "      <td>C123</td>\n",
       "      <td>S</td>\n",
       "    </tr>\n",
       "    <tr>\n",
       "      <th>5</th>\n",
       "      <td>0</td>\n",
       "      <td>3</td>\n",
       "      <td>Allen, Mr. William Henry</td>\n",
       "      <td>male</td>\n",
       "      <td>35.0</td>\n",
       "      <td>0</td>\n",
       "      <td>0</td>\n",
       "      <td>373450</td>\n",
       "      <td>8.0500</td>\n",
       "      <td>NaN</td>\n",
       "      <td>S</td>\n",
       "    </tr>\n",
       "  </tbody>\n",
       "</table>\n",
       "</div>"
      ],
      "text/plain": [
       "             Survived  Pclass  \\\n",
       "PassengerId                     \n",
       "1                   0       3   \n",
       "2                   1       1   \n",
       "3                   1       3   \n",
       "4                   1       1   \n",
       "5                   0       3   \n",
       "\n",
       "                                                          Name     Sex   Age  \\\n",
       "PassengerId                                                                    \n",
       "1                                      Braund, Mr. Owen Harris    male  22.0   \n",
       "2            Cumings, Mrs. John Bradley (Florence Briggs Th...  female  38.0   \n",
       "3                                       Heikkinen, Miss. Laina  female  26.0   \n",
       "4                 Futrelle, Mrs. Jacques Heath (Lily May Peel)  female  35.0   \n",
       "5                                     Allen, Mr. William Henry    male  35.0   \n",
       "\n",
       "             SibSp  Parch            Ticket     Fare Cabin Embarked  \n",
       "PassengerId                                                          \n",
       "1                1      0         A/5 21171   7.2500   NaN        S  \n",
       "2                1      0          PC 17599  71.2833   C85        C  \n",
       "3                0      0  STON/O2. 3101282   7.9250   NaN        S  \n",
       "4                1      0            113803  53.1000  C123        S  \n",
       "5                0      0            373450   8.0500   NaN        S  "
      ]
     },
     "execution_count": 5,
     "metadata": {},
     "output_type": "execute_result"
    }
   ],
   "source": [
    "# load data using PassengerId as index\n",
    "df = pd.read_csv(\"train.csv\", index_col=\"PassengerId\")\n",
    "df.head(5)"
   ]
  },
  {
   "cell_type": "code",
   "execution_count": 6,
   "metadata": {},
   "outputs": [
    {
     "data": {
      "text/plain": [
       "(891, 11)"
      ]
     },
     "execution_count": 6,
     "metadata": {},
     "output_type": "execute_result"
    }
   ],
   "source": [
    "# dataframe size\n",
    "df.shape"
   ]
  },
  {
   "cell_type": "markdown",
   "metadata": {},
   "source": [
    "The dataset contains 891 observations of 11 features"
   ]
  },
  {
   "cell_type": "code",
   "execution_count": 7,
   "metadata": {},
   "outputs": [
    {
     "name": "stdout",
     "output_type": "stream",
     "text": [
      "<class 'pandas.core.frame.DataFrame'>\n",
      "Int64Index: 891 entries, 1 to 891\n",
      "Data columns (total 11 columns):\n",
      "Survived    891 non-null int64\n",
      "Pclass      891 non-null int64\n",
      "Name        891 non-null object\n",
      "Sex         891 non-null object\n",
      "Age         714 non-null float64\n",
      "SibSp       891 non-null int64\n",
      "Parch       891 non-null int64\n",
      "Ticket      891 non-null object\n",
      "Fare        891 non-null float64\n",
      "Cabin       204 non-null object\n",
      "Embarked    889 non-null object\n",
      "dtypes: float64(2), int64(4), object(5)\n",
      "memory usage: 83.5+ KB\n"
     ]
    }
   ],
   "source": [
    "# explore dataset: features overview\n",
    "df.info()"
   ]
  },
  {
   "cell_type": "markdown",
   "metadata": {},
   "source": [
    "We can observe missing values for \"Age\", \"Cabin\" and \"Embarked\""
   ]
  },
  {
   "cell_type": "code",
   "execution_count": 8,
   "metadata": {},
   "outputs": [
    {
     "data": {
      "text/plain": [
       "Survived      0\n",
       "Pclass        0\n",
       "Name          0\n",
       "Sex           0\n",
       "Age         177\n",
       "SibSp         0\n",
       "Parch         0\n",
       "Ticket        0\n",
       "Fare          0\n",
       "Cabin       687\n",
       "Embarked      2\n",
       "dtype: int64"
      ]
     },
     "execution_count": 8,
     "metadata": {},
     "output_type": "execute_result"
    }
   ],
   "source": [
    "# count the number of missing values\n",
    "df.isnull().sum()"
   ]
  },
  {
   "cell_type": "markdown",
   "metadata": {},
   "source": [
    "There 177 missing values for \"Age\", 687 for \"Cabin\" and just 2 for \"Embarked\"."
   ]
  },
  {
   "cell_type": "code",
   "execution_count": 9,
   "metadata": {},
   "outputs": [
    {
     "data": {
      "text/html": [
       "<div>\n",
       "<style scoped>\n",
       "    .dataframe tbody tr th:only-of-type {\n",
       "        vertical-align: middle;\n",
       "    }\n",
       "\n",
       "    .dataframe tbody tr th {\n",
       "        vertical-align: top;\n",
       "    }\n",
       "\n",
       "    .dataframe thead th {\n",
       "        text-align: right;\n",
       "    }\n",
       "</style>\n",
       "<table border=\"1\" class=\"dataframe\">\n",
       "  <thead>\n",
       "    <tr style=\"text-align: right;\">\n",
       "      <th></th>\n",
       "      <th>Survived</th>\n",
       "      <th>Pclass</th>\n",
       "      <th>Age</th>\n",
       "      <th>SibSp</th>\n",
       "      <th>Parch</th>\n",
       "      <th>Fare</th>\n",
       "    </tr>\n",
       "  </thead>\n",
       "  <tbody>\n",
       "    <tr>\n",
       "      <th>count</th>\n",
       "      <td>891.000000</td>\n",
       "      <td>891.000000</td>\n",
       "      <td>714.000000</td>\n",
       "      <td>891.000000</td>\n",
       "      <td>891.000000</td>\n",
       "      <td>891.000000</td>\n",
       "    </tr>\n",
       "    <tr>\n",
       "      <th>mean</th>\n",
       "      <td>0.383838</td>\n",
       "      <td>2.308642</td>\n",
       "      <td>29.699118</td>\n",
       "      <td>0.523008</td>\n",
       "      <td>0.381594</td>\n",
       "      <td>32.204208</td>\n",
       "    </tr>\n",
       "    <tr>\n",
       "      <th>std</th>\n",
       "      <td>0.486592</td>\n",
       "      <td>0.836071</td>\n",
       "      <td>14.526497</td>\n",
       "      <td>1.102743</td>\n",
       "      <td>0.806057</td>\n",
       "      <td>49.693429</td>\n",
       "    </tr>\n",
       "    <tr>\n",
       "      <th>min</th>\n",
       "      <td>0.000000</td>\n",
       "      <td>1.000000</td>\n",
       "      <td>0.420000</td>\n",
       "      <td>0.000000</td>\n",
       "      <td>0.000000</td>\n",
       "      <td>0.000000</td>\n",
       "    </tr>\n",
       "    <tr>\n",
       "      <th>25%</th>\n",
       "      <td>0.000000</td>\n",
       "      <td>2.000000</td>\n",
       "      <td>20.125000</td>\n",
       "      <td>0.000000</td>\n",
       "      <td>0.000000</td>\n",
       "      <td>7.910400</td>\n",
       "    </tr>\n",
       "    <tr>\n",
       "      <th>50%</th>\n",
       "      <td>0.000000</td>\n",
       "      <td>3.000000</td>\n",
       "      <td>28.000000</td>\n",
       "      <td>0.000000</td>\n",
       "      <td>0.000000</td>\n",
       "      <td>14.454200</td>\n",
       "    </tr>\n",
       "    <tr>\n",
       "      <th>75%</th>\n",
       "      <td>1.000000</td>\n",
       "      <td>3.000000</td>\n",
       "      <td>38.000000</td>\n",
       "      <td>1.000000</td>\n",
       "      <td>0.000000</td>\n",
       "      <td>31.000000</td>\n",
       "    </tr>\n",
       "    <tr>\n",
       "      <th>max</th>\n",
       "      <td>1.000000</td>\n",
       "      <td>3.000000</td>\n",
       "      <td>80.000000</td>\n",
       "      <td>8.000000</td>\n",
       "      <td>6.000000</td>\n",
       "      <td>512.329200</td>\n",
       "    </tr>\n",
       "  </tbody>\n",
       "</table>\n",
       "</div>"
      ],
      "text/plain": [
       "         Survived      Pclass         Age       SibSp       Parch        Fare\n",
       "count  891.000000  891.000000  714.000000  891.000000  891.000000  891.000000\n",
       "mean     0.383838    2.308642   29.699118    0.523008    0.381594   32.204208\n",
       "std      0.486592    0.836071   14.526497    1.102743    0.806057   49.693429\n",
       "min      0.000000    1.000000    0.420000    0.000000    0.000000    0.000000\n",
       "25%      0.000000    2.000000   20.125000    0.000000    0.000000    7.910400\n",
       "50%      0.000000    3.000000   28.000000    0.000000    0.000000   14.454200\n",
       "75%      1.000000    3.000000   38.000000    1.000000    0.000000   31.000000\n",
       "max      1.000000    3.000000   80.000000    8.000000    6.000000  512.329200"
      ]
     },
     "execution_count": 9,
     "metadata": {},
     "output_type": "execute_result"
    }
   ],
   "source": [
    "# explore dataset: initial statistics on numerical features\n",
    "df.describe()"
   ]
  },
  {
   "cell_type": "code",
   "execution_count": 10,
   "metadata": {},
   "outputs": [
    {
     "name": "stdout",
     "output_type": "stream",
     "text": [
      "0    549\n",
      "1    342\n",
      "Name: Survived, dtype: int64\n",
      "\n",
      "0    61.616162\n",
      "1    38.383838\n",
      "Name: Survived, dtype: float64\n"
     ]
    }
   ],
   "source": [
    "# calculate number and percentage of survivors\n",
    "print(df[\"Survived\"].value_counts())\n",
    "print(\"\")\n",
    "print(df[\"Survived\"].value_counts() / df[\"Survived\"].count() * 100)"
   ]
  },
  {
   "cell_type": "markdown",
   "metadata": {},
   "source": [
    "Number of Survivor: 342\n",
    "Percentage of Survivors: 38.38%"
   ]
  },
  {
   "cell_type": "code",
   "execution_count": 11,
   "metadata": {},
   "outputs": [
    {
     "name": "stdout",
     "output_type": "stream",
     "text": [
      "male      577\n",
      "female    314\n",
      "Name: Sex, dtype: int64\n",
      "\n",
      "male      64.758698\n",
      "female    35.241302\n",
      "Name: Sex, dtype: float64\n"
     ]
    }
   ],
   "source": [
    "# calculate number percentage of men and women\n",
    "print(df[\"Sex\"].value_counts())\n",
    "print(\"\")\n",
    "print(df[\"Sex\"].value_counts() / df[\"Sex\"].count() * 100)"
   ]
  },
  {
   "cell_type": "markdown",
   "metadata": {},
   "source": [
    "Number/Percentage of Male: 577 / 64.75%\n",
    "\n",
    "Number/Percentage of Female: 314 / 35.25%"
   ]
  },
  {
   "cell_type": "code",
   "execution_count": 12,
   "metadata": {},
   "outputs": [
    {
     "name": "stdout",
     "output_type": "stream",
     "text": [
      "female    233\n",
      "male      109\n",
      "Name: Sex, dtype: int64\n",
      "\n",
      "female    0.681287\n",
      "male      0.318713\n",
      "Name: Sex, dtype: float64\n"
     ]
    }
   ],
   "source": [
    "# Compute the number and percentage of survivors that were men and women\n",
    "print(df[df[\"Survived\"] == 1][\"Sex\"].value_counts())\n",
    "print(\"\")\n",
    "print(df[df[\"Survived\"] == 1][\"Sex\"].value_counts() / df[df[\"Survived\"] == 1][\"Survived\"].count())"
   ]
  },
  {
   "cell_type": "markdown",
   "metadata": {},
   "source": [
    "233 out of 342 survivors were Female (68.13%)\n",
    "\n",
    "109 out of 342 survivors were Male (31.87%)"
   ]
  },
  {
   "cell_type": "code",
   "execution_count": 13,
   "metadata": {},
   "outputs": [
    {
     "data": {
      "text/plain": [
       "Sex     Survived\n",
       "female  0           25.796178\n",
       "        1           74.203822\n",
       "male    0           81.109185\n",
       "        1           18.890815\n",
       "dtype: float64"
      ]
     },
     "execution_count": 13,
     "metadata": {},
     "output_type": "execute_result"
    }
   ],
   "source": [
    "# Compute the percentage of survivors by sex\n",
    "df.groupby([\"Sex\", \"Survived\"]).size() / df.groupby(\"Sex\").size() * 100"
   ]
  },
  {
   "cell_type": "markdown",
   "metadata": {},
   "source": [
    "74.2% of all female passengers survived while 18.9% of male passengers survived"
   ]
  },
  {
   "cell_type": "code",
   "execution_count": 14,
   "metadata": {},
   "outputs": [
    {
     "data": {
      "text/plain": [
       "Sex     Survived\n",
       "female  0            9.090909\n",
       "        1           26.150393\n",
       "male    0           52.525253\n",
       "        1           12.233446\n",
       "dtype: float64"
      ]
     },
     "execution_count": 14,
     "metadata": {},
     "output_type": "execute_result"
    }
   ],
   "source": [
    "# Compute the probability of being male/female and surviving/not surviving\n",
    "df.groupby([\"Sex\", \"Survived\"]).size() / df[\"Survived\"].count() * 100"
   ]
  },
  {
   "cell_type": "markdown",
   "metadata": {},
   "source": [
    "Considering a random passenger on the dataset:\n",
    "\n",
    "  * Probability of being Female and Not Surviving: 9.09%\n",
    "\n",
    "  * Probability of being Female and Surviving: 26.15%\n",
    "\n",
    "  * Probability of being Male and Not Surviving: 52.52%\n",
    "\n",
    "  * Probability of being Male and Surviving: 12.23%\n",
    "  \n",
    "For a given female passenger, the probability of survival was 74.2%, while for male it was 18.9%.\n"
   ]
  },
  {
   "cell_type": "code",
   "execution_count": 18,
   "metadata": {},
   "outputs": [
    {
     "data": {
      "text/plain": [
       "Sex     Pclass  Survived\n",
       "female  1       0            0.336700\n",
       "                1           10.213244\n",
       "        2       0            0.673401\n",
       "                1            7.856341\n",
       "        3       0            8.080808\n",
       "                1            8.080808\n",
       "male    1       0            8.641975\n",
       "                1            5.050505\n",
       "        2       0           10.213244\n",
       "                1            1.907969\n",
       "        3       0           33.670034\n",
       "                1            5.274972\n",
       "dtype: float64"
      ]
     },
     "execution_count": 18,
     "metadata": {},
     "output_type": "execute_result"
    }
   ],
   "source": [
    "# Compute the probability of survival of all combinations of sex and class\n",
    "df.groupby([\"Sex\", \"Pclass\", \"Survived\"]).size() / df[\"Survived\"].count() * 100"
   ]
  },
  {
   "cell_type": "markdown",
   "metadata": {},
   "source": [
    "Considering the combinations of \"Sex\" and \"Class\", Sex seems to be the stronger predictor of who survived, although there is a clear correlation between Class and the probability of survival.\n",
    "\n",
    "The probability of survival for Female Passengers in the first class is 96.8%, second class is 92.1% and third class is 50%. On the other hand, probabilities are lower for male passengers in all classes: 36.9% for first, 15.7% for second and 13.5 for third."
   ]
  },
  {
   "cell_type": "code",
   "execution_count": 13,
   "metadata": {},
   "outputs": [
    {
     "data": {
      "image/png": "[encoded data removed]",
      "text/plain": [
       "<Figure size 432x288 with 1 Axes>"
      ]
     },
     "metadata": {},
     "output_type": "display_data"
    }
   ],
   "source": [
    "### impute the missing values in the Age column\n",
    "\n",
    "# first let's see the distribution of the current values of Age\n",
    "plt.hist(df[\"Age\"].dropna(), 20)\n",
    "plt.show()"
   ]
  },
  {
   "cell_type": "markdown",
   "metadata": {},
   "source": [
    "There is a high concentration of lower ages (children), but besides that Age follows roughly a normal distribution."
   ]
  },
  {
   "cell_type": "code",
   "execution_count": 14,
   "metadata": {},
   "outputs": [
    {
     "data": {
      "image/png": "[encoded data removed]",
      "text/plain": [
       "<Figure size 432x288 with 1 Axes>"
      ]
     },
     "metadata": {},
     "output_type": "display_data"
    },
    {
     "data": {
      "image/png": "[encoded data removed]",
      "text/plain": [
       "<Figure size 432x288 with 1 Axes>"
      ]
     },
     "metadata": {},
     "output_type": "display_data"
    }
   ],
   "source": [
    "# Now let's see the distribution of age between survivors and non survivors\n",
    "plt.subplot(2, 1, 1)\n",
    "plt.hist(df[df[\"Survived\"] == 1][\"Age\"].dropna(), 20)\n",
    "plt.title(\"Age Distribution Survivors\")\n",
    "plt.show()\n",
    "\n",
    "plt.subplot(2, 1, 1)\n",
    "plt.hist(df[df[\"Survived\"] == 0][\"Age\"].dropna(), 20)\n",
    "plt.title(\"Age Distribution Non Survivors\")\n",
    "plt.show()"
   ]
  },
  {
   "cell_type": "markdown",
   "metadata": {},
   "source": [
    "There is a higher concentration of youner ages among those that survided, but besided that the distributions are quite similar."
   ]
  },
  {
   "cell_type": "code",
   "execution_count": 15,
   "metadata": {},
   "outputs": [
    {
     "data": {
      "image/png": "[encoded data removed]",
      "text/plain": [
       "<Figure size 432x288 with 1 Axes>"
      ]
     },
     "metadata": {},
     "output_type": "display_data"
    },
    {
     "data": {
      "image/png": "[encoded data removed]",
      "text/plain": [
       "<Figure size 432x288 with 1 Axes>"
      ]
     },
     "metadata": {},
     "output_type": "display_data"
    },
    {
     "data": {
      "image/png": "[encoded data removed]",
      "text/plain": [
       "<Figure size 432x288 with 1 Axes>"
      ]
     },
     "metadata": {},
     "output_type": "display_data"
    }
   ],
   "source": [
    "# Checking the distribution of Age by class\n",
    "plt.subplot(2, 1, 1)\n",
    "plt.hist(df[df[\"Pclass\"] == 1][\"Age\"].dropna(), 20)\n",
    "plt.title(\"Age Distribution First Class\")\n",
    "plt.show()\n",
    "\n",
    "plt.subplot(2, 1, 1)\n",
    "plt.hist(df[df[\"Pclass\"] == 2][\"Age\"].dropna(), 20)\n",
    "plt.title(\"Age Distribution Second Class\")\n",
    "plt.show()\n",
    "\n",
    "plt.subplot(2, 1, 1)\n",
    "plt.hist(df[df[\"Pclass\"] == 3][\"Age\"].dropna(), 20)\n",
    "plt.title(\"Age Distribution Third Class\")\n",
    "plt.show()"
   ]
  },
  {
   "cell_type": "markdown",
   "metadata": {},
   "source": [
    "We can see that the Upper Classes had higher amount of older people (Age > 50)"
   ]
  },
  {
   "cell_type": "code",
   "execution_count": 16,
   "metadata": {},
   "outputs": [
    {
     "data": {
      "image/png": "[encoded data removed]",
      "text/plain": [
       "<Figure size 432x288 with 1 Axes>"
      ]
     },
     "metadata": {},
     "output_type": "display_data"
    },
    {
     "data": {
      "image/png": "[encoded data removed]",
      "text/plain": [
       "<Figure size 432x288 with 1 Axes>"
      ]
     },
     "metadata": {},
     "output_type": "display_data"
    }
   ],
   "source": [
    "# Checking the distribution of Age by sex\n",
    "plt.subplot(2, 1, 1)\n",
    "plt.hist(df[df[\"Sex\"] == \"female\"][\"Age\"].dropna(), 10)\n",
    "plt.title(\"Age Distribution Females\")\n",
    "plt.show()\n",
    "\n",
    "plt.subplot(2, 1, 1)\n",
    "plt.hist(df[df[\"Sex\"] == \"male\"][\"Age\"].dropna(), 10)\n",
    "plt.title(\"Age Distribution Male\")\n",
    "plt.show()"
   ]
  },
  {
   "cell_type": "markdown",
   "metadata": {},
   "source": [
    "Distribution of Ages by Sex is similar, although there are higher ages for Male (> 70)"
   ]
  },
  {
   "cell_type": "code",
   "execution_count": 17,
   "metadata": {},
   "outputs": [
    {
     "data": {
      "image/png": "[encoded data removed]",
      "text/plain": [
       "<Figure size 432x288 with 1 Axes>"
      ]
     },
     "metadata": {},
     "output_type": "display_data"
    },
    {
     "data": {
      "image/png": "[encoded data removed]",
      "text/plain": [
       "<Figure size 432x288 with 1 Axes>"
      ]
     },
     "metadata": {},
     "output_type": "display_data"
    }
   ],
   "source": [
    "# Checking the distribution of Age for people who had sibilings and/or spouses on board\n",
    "plt.subplot(2, 1, 1)\n",
    "plt.hist(df[df[\"SibSp\"] != 0][\"Age\"].dropna(), 10)\n",
    "plt.title(\"Age Distribution People with Sibiling/Spouse\")\n",
    "plt.show()\n",
    "\n",
    "plt.subplot(2, 1, 1)\n",
    "plt.hist(df[df[\"SibSp\"] == 0][\"Age\"].dropna(), 10)\n",
    "plt.title(\"Age Distribution People without Sibiling/Spouse\")\n",
    "plt.show()"
   ]
  },
  {
   "cell_type": "markdown",
   "metadata": {},
   "source": [
    "We can see that there is a much higher concentration of younger ages for those people that had sibilings/spouses on board (probably more driven by the presence of brothers/sisters)"
   ]
  },
  {
   "cell_type": "code",
   "execution_count": 18,
   "metadata": {},
   "outputs": [
    {
     "data": {
      "image/png": "[encoded data removed]",
      "text/plain": [
       "<Figure size 432x288 with 1 Axes>"
      ]
     },
     "metadata": {},
     "output_type": "display_data"
    },
    {
     "data": {
      "image/png": "[encoded data removed]",
      "text/plain": [
       "<Figure size 432x288 with 1 Axes>"
      ]
     },
     "metadata": {},
     "output_type": "display_data"
    }
   ],
   "source": [
    "# Checking the distribution of Age for people who had parents and/or children on board\n",
    "plt.subplot(2, 1, 1)\n",
    "plt.hist(df[df[\"Parch\"] != 0][\"Age\"].dropna(), 10)\n",
    "plt.title(\"Age Distribution People with Parents/Children\")\n",
    "plt.show()\n",
    "\n",
    "plt.subplot(2, 1, 1)\n",
    "plt.hist(df[df[\"Parch\"] == 0][\"Age\"].dropna(), 10)\n",
    "plt.title(\"Age Distribution People without Parents/Children\")\n",
    "plt.show()"
   ]
  },
  {
   "cell_type": "markdown",
   "metadata": {},
   "source": [
    "As expected, huge concentration of young ages among those that had Parents on board."
   ]
  },
  {
   "cell_type": "code",
   "execution_count": 19,
   "metadata": {},
   "outputs": [
    {
     "data": {
      "image/png": "[encoded data removed]",
      "text/plain": [
       "<Figure size 432x288 with 1 Axes>"
      ]
     },
     "metadata": {},
     "output_type": "display_data"
    },
    {
     "data": {
      "image/png": "[encoded data removed]",
      "text/plain": [
       "<Figure size 432x288 with 1 Axes>"
      ]
     },
     "metadata": {},
     "output_type": "display_data"
    },
    {
     "data": {
      "image/png": "[encoded data removed]",
      "text/plain": [
       "<Figure size 432x288 with 1 Axes>"
      ]
     },
     "metadata": {},
     "output_type": "display_data"
    }
   ],
   "source": [
    "# Let's try with 0 < Parchar <= 2 to try to spot only children with their parents (risk of including parents with only one child)\n",
    "plt.subplot(2, 1, 1)\n",
    "plt.hist(df[(df[\"Parch\"] > 0) & (df[\"Parch\"] < 3)][\"Age\"].dropna(), 10)\n",
    "plt.title(\"Age Distribution People with 0 < Parch <=2 \")\n",
    "plt.show()\n",
    "\n",
    "plt.subplot(2, 1, 1)\n",
    "plt.hist(df[df[\"Parch\"] > 2][\"Age\"].dropna(), 10)\n",
    "plt.title(\"Age Distribution People with Parch > 3\")\n",
    "plt.show()\n",
    "\n",
    "plt.subplot(2, 1, 1)\n",
    "plt.hist(df[df[\"Parch\"] == 0][\"Age\"].dropna(), 10)\n",
    "plt.title(\"Age Distribution People without Parents/Children\")\n",
    "plt.show()"
   ]
  },
  {
   "cell_type": "markdown",
   "metadata": {},
   "source": [
    "It seems like very feel instances in the dataframe had Parch > 3 so this division was not so informative.\n",
    "However, as the next chunk shows, most missing values for age belong to those with Parch = 0:"
   ]
  },
  {
   "cell_type": "code",
   "execution_count": 20,
   "metadata": {},
   "outputs": [
    {
     "name": "stdout",
     "output_type": "stream",
     "text": [
      "20\n",
      "0\n",
      "157\n"
     ]
    }
   ],
   "source": [
    "print(df[(df[\"Parch\"] > 0) & (df[\"Parch\"] < 3)][\"Age\"].isnull().sum())\n",
    "print(df[df[\"Parch\"] > 2][\"Age\"].isnull().sum())\n",
    "print(df[df[\"Parch\"] == 0][\"Age\"].isnull().sum())"
   ]
  },
  {
   "cell_type": "markdown",
   "metadata": {},
   "source": [
    "Given those results, the inputation of missing values for Age will be done according to the median values of all combinations of \"Pclass\", \"Sibsp\" and \"Parch\". The values to be inputed are printed in the following chunk:"
   ]
  },
  {
   "cell_type": "code",
   "execution_count": 21,
   "metadata": {},
   "outputs": [
    {
     "name": "stderr",
     "output_type": "stream",
     "text": [
      "C:\\Users\\jalouzada\\Anaconda3\\lib\\site-packages\\ipykernel_launcher.py:5: SettingWithCopyWarning: \n",
      "A value is trying to be set on a copy of a slice from a DataFrame\n",
      "\n",
      "See the caveats in the documentation: http://pandas.pydata.org/pandas-docs/stable/indexing.html#indexing-view-versus-copy\n",
      "  \"\"\"\n",
      "C:\\Users\\jalouzada\\Anaconda3\\lib\\site-packages\\ipykernel_launcher.py:7: SettingWithCopyWarning: \n",
      "A value is trying to be set on a copy of a slice from a DataFrame\n",
      "\n",
      "See the caveats in the documentation: http://pandas.pydata.org/pandas-docs/stable/indexing.html#indexing-view-versus-copy\n",
      "  import sys\n",
      "C:\\Users\\jalouzada\\Anaconda3\\lib\\site-packages\\ipykernel_launcher.py:15: SettingWithCopyWarning: \n",
      "A value is trying to be set on a copy of a slice from a DataFrame\n",
      "\n",
      "See the caveats in the documentation: http://pandas.pydata.org/pandas-docs/stable/indexing.html#indexing-view-versus-copy\n",
      "  from ipykernel import kernelapp as app\n",
      "C:\\Users\\jalouzada\\Anaconda3\\lib\\site-packages\\ipykernel_launcher.py:13: SettingWithCopyWarning: \n",
      "A value is trying to be set on a copy of a slice from a DataFrame\n",
      "\n",
      "See the caveats in the documentation: http://pandas.pydata.org/pandas-docs/stable/indexing.html#indexing-view-versus-copy\n",
      "  del sys.path[0]\n"
     ]
    }
   ],
   "source": [
    "# creating a dummy variable to indicate if has or no sibilings/spouse\n",
    "df[\"SibSp_dummy\"] = 0\n",
    "for row in range(1, df[\"SibSp\"].count() - 1):\n",
    "    if df[\"SibSp\"][row] > 0:\n",
    "        df[\"SibSp_dummy\"][row] = 1\n",
    "    else:\n",
    "        df[\"SibSp_dummy\"][row] = 0\n",
    "\n",
    "# creating a dummy variable to indicate if has or no parents/children\n",
    "df[\"Parch_dummy\"] = 0\n",
    "for row in range(1, df[\"Parch\"].count() - 1):\n",
    "    if df[\"Parch\"][row] > 0 & df[\"Parch\"][row] < 3:\n",
    "        df[\"Parch_dummy\"][row] = 1\n",
    "    else:\n",
    "        df[\"Parch_dummy\"][row] = 0"
   ]
  },
  {
   "cell_type": "code",
   "execution_count": 22,
   "metadata": {},
   "outputs": [
    {
     "data": {
      "text/html": [
       "<div>\n",
       "<style scoped>\n",
       "    .dataframe tbody tr th:only-of-type {\n",
       "        vertical-align: middle;\n",
       "    }\n",
       "\n",
       "    .dataframe tbody tr th {\n",
       "        vertical-align: top;\n",
       "    }\n",
       "\n",
       "    .dataframe thead th {\n",
       "        text-align: right;\n",
       "    }\n",
       "</style>\n",
       "<table border=\"1\" class=\"dataframe\">\n",
       "  <thead>\n",
       "    <tr style=\"text-align: right;\">\n",
       "      <th></th>\n",
       "      <th></th>\n",
       "      <th></th>\n",
       "      <th>Age</th>\n",
       "    </tr>\n",
       "    <tr>\n",
       "      <th>Pclass</th>\n",
       "      <th>SibSp_dummy</th>\n",
       "      <th>Parch_dummy</th>\n",
       "      <th></th>\n",
       "    </tr>\n",
       "  </thead>\n",
       "  <tbody>\n",
       "    <tr>\n",
       "      <th rowspan=\"4\" valign=\"top\">1</th>\n",
       "      <th rowspan=\"2\" valign=\"top\">0</th>\n",
       "      <th>0</th>\n",
       "      <td>41.005814</td>\n",
       "    </tr>\n",
       "    <tr>\n",
       "      <th>1</th>\n",
       "      <td>33.370370</td>\n",
       "    </tr>\n",
       "    <tr>\n",
       "      <th rowspan=\"2\" valign=\"top\">1</th>\n",
       "      <th>0</th>\n",
       "      <td>37.937500</td>\n",
       "    </tr>\n",
       "    <tr>\n",
       "      <th>1</th>\n",
       "      <td>34.516800</td>\n",
       "    </tr>\n",
       "    <tr>\n",
       "      <th rowspan=\"4\" valign=\"top\">2</th>\n",
       "      <th rowspan=\"2\" valign=\"top\">0</th>\n",
       "      <th>0</th>\n",
       "      <td>33.736559</td>\n",
       "    </tr>\n",
       "    <tr>\n",
       "      <th>1</th>\n",
       "      <td>21.458125</td>\n",
       "    </tr>\n",
       "    <tr>\n",
       "      <th rowspan=\"2\" valign=\"top\">1</th>\n",
       "      <th>0</th>\n",
       "      <td>31.050000</td>\n",
       "    </tr>\n",
       "    <tr>\n",
       "      <th>1</th>\n",
       "      <td>22.250000</td>\n",
       "    </tr>\n",
       "    <tr>\n",
       "      <th rowspan=\"4\" valign=\"top\">3</th>\n",
       "      <th rowspan=\"2\" valign=\"top\">0</th>\n",
       "      <th>0</th>\n",
       "      <td>28.235556</td>\n",
       "    </tr>\n",
       "    <tr>\n",
       "      <th>1</th>\n",
       "      <td>21.955000</td>\n",
       "    </tr>\n",
       "    <tr>\n",
       "      <th rowspan=\"2\" valign=\"top\">1</th>\n",
       "      <th>0</th>\n",
       "      <td>25.525641</td>\n",
       "    </tr>\n",
       "    <tr>\n",
       "      <th>1</th>\n",
       "      <td>15.664179</td>\n",
       "    </tr>\n",
       "  </tbody>\n",
       "</table>\n",
       "</div>"
      ],
      "text/plain": [
       "                                      Age\n",
       "Pclass SibSp_dummy Parch_dummy           \n",
       "1      0           0            41.005814\n",
       "                   1            33.370370\n",
       "       1           0            37.937500\n",
       "                   1            34.516800\n",
       "2      0           0            33.736559\n",
       "                   1            21.458125\n",
       "       1           0            31.050000\n",
       "                   1            22.250000\n",
       "3      0           0            28.235556\n",
       "                   1            21.955000\n",
       "       1           0            25.525641\n",
       "                   1            15.664179"
      ]
     },
     "execution_count": 22,
     "metadata": {},
     "output_type": "execute_result"
    }
   ],
   "source": [
    "# values to be imputed according to combinations\n",
    "medians_to_input = pd.pivot_table(\n",
    "    df, index=[\"Pclass\", \"SibSp_dummy\", \"Parch_dummy\"], values=\"Age\", aggfunc=np.mean\n",
    ")\n",
    "medians_to_input"
   ]
  },
  {
   "cell_type": "code",
   "execution_count": 23,
   "metadata": {},
   "outputs": [],
   "source": [
    "# to make it easier, let's concatenate this in a variable\n",
    "df[\"age_input_ref\"] = df[\"Pclass\"].astype(str) + df[\"SibSp_dummy\"].astype(str) + df[\"Parch_dummy\"].astype(str)"
   ]
  },
  {
   "cell_type": "code",
   "execution_count": 24,
   "metadata": {},
   "outputs": [
    {
     "name": "stderr",
     "output_type": "stream",
     "text": [
      "C:\\Users\\jalouzada\\Anaconda3\\lib\\site-packages\\ipykernel_launcher.py:9: SettingWithCopyWarning: \n",
      "A value is trying to be set on a copy of a slice from a DataFrame\n",
      "\n",
      "See the caveats in the documentation: http://pandas.pydata.org/pandas-docs/stable/indexing.html#indexing-view-versus-copy\n",
      "  if __name__ == '__main__':\n",
      "C:\\Users\\jalouzada\\Anaconda3\\lib\\site-packages\\ipykernel_launcher.py:6: SettingWithCopyWarning: \n",
      "A value is trying to be set on a copy of a slice from a DataFrame\n",
      "\n",
      "See the caveats in the documentation: http://pandas.pydata.org/pandas-docs/stable/indexing.html#indexing-view-versus-copy\n",
      "  \n"
     ]
    }
   ],
   "source": [
    "# inputing missing values for age according to the value of \"age_input_ref\"\n",
    "df[\"Age_input1\"] = 0\n",
    "for row in range(1, df[\"Pclass\"].count() - 1):\n",
    "    if np.isnan(df[\"Age\"][row]):\n",
    "        df[\"Age_input1\"][row] = np.median(\n",
    "            df[df[\"age_input_ref\"] == df[\"age_input_ref\"][row]][\"Age\"].dropna()\n",
    "        )\n",
    "    else:\n",
    "        df[\"Age_input1\"][row] = df[\"Age\"][row]"
   ]
  },
  {
   "cell_type": "code",
   "execution_count": 25,
   "metadata": {},
   "outputs": [
    {
     "data": {
      "text/plain": [
       "Survived           0\n",
       "Pclass             0\n",
       "Name               0\n",
       "Sex                0\n",
       "Age              177\n",
       "SibSp              0\n",
       "Parch              0\n",
       "Ticket             0\n",
       "Fare               0\n",
       "Cabin            687\n",
       "Embarked           2\n",
       "SibSp_dummy        0\n",
       "Parch_dummy        0\n",
       "age_input_ref      0\n",
       "Age_input1         0\n",
       "dtype: int64"
      ]
     },
     "execution_count": 25,
     "metadata": {},
     "output_type": "execute_result"
    }
   ],
   "source": [
    "# count again the number of missing values\n",
    "df.isnull().sum()"
   ]
  },
  {
   "cell_type": "markdown",
   "metadata": {},
   "source": [
    "\"Age_input1\" has zero missing values."
   ]
  },
  {
   "cell_type": "code",
   "execution_count": 26,
   "metadata": {},
   "outputs": [
    {
     "data": {
      "image/png": "[encoded data removed]",
      "text/plain": [
       "<Figure size 432x288 with 1 Axes>"
      ]
     },
     "metadata": {},
     "output_type": "display_data"
    }
   ],
   "source": [
    "# now let's check again the distribution of the values of Age\n",
    "plt.hist(df[\"Age_input1\"].dropna(), 20)\n",
    "plt.show()"
   ]
  },
  {
   "cell_type": "code",
   "execution_count": 27,
   "metadata": {},
   "outputs": [
    {
     "data": {
      "image/png": "[encoded data removed]",
      "text/plain": [
       "<Figure size 432x288 with 1 Axes>"
      ]
     },
     "metadata": {},
     "output_type": "display_data"
    },
    {
     "data": {
      "image/png": "[encoded data removed]",
      "text/plain": [
       "<Figure size 432x288 with 1 Axes>"
      ]
     },
     "metadata": {},
     "output_type": "display_data"
    }
   ],
   "source": [
    "# Now let's see the distribution of age between survivors and non survivors\n",
    "plt.subplot(2, 1, 1)\n",
    "plt.hist(df[df[\"Survived\"] == 1][\"Age_input1\"].dropna(), 20)\n",
    "plt.title(\"Age Distribution Survivors\")\n",
    "plt.show()\n",
    "\n",
    "plt.subplot(2, 1, 1)\n",
    "plt.hist(df[df[\"Survived\"] == 0][\"Age_input1\"].dropna(), 20)\n",
    "plt.title(\"Age Distribution Non Survivors\")\n",
    "plt.show()"
   ]
  },
  {
   "cell_type": "markdown",
   "metadata": {},
   "source": [
    "As we can see from the histograms, this method of imputation created a very high concentration of Ages around 25-30 yo, which doesn't seem to be very accurate.\n",
    "So, we will now try to input ages according to each passenger's title (mr, miss, etc). This is similar to what was done in this kernel (https://www.kaggle.com/mrisdal/exploring-survival-on-the-titanic) in R, which I'll replicate in Python."
   ]
  },
  {
   "cell_type": "code",
   "execution_count": 28,
   "metadata": {},
   "outputs": [],
   "source": [
    "# extract the Title from the name\n",
    "df[\"Title\"] = \"\"\n",
    "df[\"Title\"] = df[\"Name\"].str.extract(\"([A-Za-z]+)\\.\", expand=False)"
   ]
  },
  {
   "cell_type": "code",
   "execution_count": 29,
   "metadata": {},
   "outputs": [
    {
     "data": {
      "text/plain": [
       "Sex     Title   \n",
       "female  Countess      1\n",
       "        Dr            1\n",
       "        Lady          1\n",
       "        Miss        182\n",
       "        Mlle          2\n",
       "        Mme           1\n",
       "        Mrs         125\n",
       "        Ms            1\n",
       "male    Capt          1\n",
       "        Col           2\n",
       "        Don           1\n",
       "        Dr            6\n",
       "        Jonkheer      1\n",
       "        Major         2\n",
       "        Master       40\n",
       "        Mr          517\n",
       "        Rev           6\n",
       "        Sir           1\n",
       "dtype: int64"
      ]
     },
     "execution_count": 29,
     "metadata": {},
     "output_type": "execute_result"
    }
   ],
   "source": [
    "# check title distribution per sex\n",
    "df.groupby([\"Sex\", \"Title\"]).size()"
   ]
  },
  {
   "cell_type": "code",
   "execution_count": 30,
   "metadata": {},
   "outputs": [],
   "source": [
    "# group unusual titles\n",
    "df[\"Title\"] = df[\"Title\"].replace(\n",
    "    [\n",
    "        \"Lady\",\n",
    "        \"Countess\",\n",
    "        \"Capt\",\n",
    "        \"Col\",\n",
    "        \"Don\",\n",
    "        \"Dr\",\n",
    "        \"Major\",\n",
    "        \"Rev\",\n",
    "        \"Sir\",\n",
    "        \"Jonkheer\",\n",
    "        \"Dona\",\n",
    "    ],\n",
    "    \"Other\",\n",
    ")\n",
    "\n",
    "# correct title variations\n",
    "df[\"Title\"] = df[\"Title\"].replace([\"Mlle\", \"Ms\"], \"Miss\")\n",
    "df[\"Title\"] = df[\"Title\"].replace(\"Mme\", \"Mrs\")"
   ]
  },
  {
   "cell_type": "code",
   "execution_count": 31,
   "metadata": {},
   "outputs": [
    {
     "data": {
      "text/plain": [
       "Sex     Title \n",
       "female  Miss      185\n",
       "        Mrs       126\n",
       "        Other       3\n",
       "male    Master     40\n",
       "        Mr        517\n",
       "        Other      20\n",
       "dtype: int64"
      ]
     },
     "execution_count": 31,
     "metadata": {},
     "output_type": "execute_result"
    }
   ],
   "source": [
    "# check again title distribution per sex\n",
    "df.groupby([\"Sex\", \"Title\"]).size()"
   ]
  },
  {
   "cell_type": "code",
   "execution_count": 32,
   "metadata": {},
   "outputs": [
    {
     "data": {
      "image/png": "[encoded data removed]",
      "text/plain": [
       "<Figure size 432x288 with 1 Axes>"
      ]
     },
     "metadata": {},
     "output_type": "display_data"
    },
    {
     "data": {
      "image/png": "[encoded data removed]",
      "text/plain": [
       "<Figure size 432x288 with 1 Axes>"
      ]
     },
     "metadata": {},
     "output_type": "display_data"
    },
    {
     "data": {
      "image/png": "[encoded data removed]",
      "text/plain": [
       "<Figure size 432x288 with 1 Axes>"
      ]
     },
     "metadata": {},
     "output_type": "display_data"
    },
    {
     "data": {
      "image/png": "[encoded data removed]",
      "text/plain": [
       "<Figure size 432x288 with 1 Axes>"
      ]
     },
     "metadata": {},
     "output_type": "display_data"
    },
    {
     "data": {
      "image/png": "[encoded data removed]",
      "text/plain": [
       "<Figure size 432x288 with 1 Axes>"
      ]
     },
     "metadata": {},
     "output_type": "display_data"
    }
   ],
   "source": [
    "# now let's see the age distribution for the different titles\n",
    "plt.subplot(2, 1, 1)\n",
    "plt.hist(df[df[\"Title\"] == \"Miss\"][\"Age\"].dropna(), 10)\n",
    "plt.title(\"Age Distribution Miss\")\n",
    "plt.show()\n",
    "\n",
    "plt.subplot(2, 1, 1)\n",
    "plt.hist(df[df[\"Title\"] == \"Mrs\"][\"Age\"].dropna(), 10)\n",
    "plt.title(\"Age Distribution Mrs\")\n",
    "plt.show()\n",
    "\n",
    "plt.subplot(2, 1, 1)\n",
    "plt.hist(df[df[\"Title\"] == \"Master\"][\"Age\"].dropna(), 10)\n",
    "plt.title(\"Age Distribution Master\")\n",
    "plt.show()\n",
    "\n",
    "plt.subplot(2, 1, 1)\n",
    "plt.hist(df[df[\"Title\"] == \"Mr\"][\"Age\"].dropna(), 10)\n",
    "plt.title(\"Age Distribution Mr\")\n",
    "plt.show()\n",
    "\n",
    "plt.subplot(2, 1, 1)\n",
    "plt.hist(df[df[\"Title\"] == \"Other\"][\"Age\"].dropna(), 10)\n",
    "plt.title(\"Age Distribution Other\")\n",
    "plt.show()"
   ]
  },
  {
   "cell_type": "markdown",
   "metadata": {},
   "source": [
    "It's clear thar Title is a good predictor of Age, at least as a distinction between adults and children."
   ]
  },
  {
   "cell_type": "code",
   "execution_count": 33,
   "metadata": {},
   "outputs": [
    {
     "name": "stderr",
     "output_type": "stream",
     "text": [
      "C:\\Users\\jalouzada\\Anaconda3\\lib\\site-packages\\ipykernel_launcher.py:9: SettingWithCopyWarning: \n",
      "A value is trying to be set on a copy of a slice from a DataFrame\n",
      "\n",
      "See the caveats in the documentation: http://pandas.pydata.org/pandas-docs/stable/indexing.html#indexing-view-versus-copy\n",
      "  if __name__ == '__main__':\n",
      "C:\\Users\\jalouzada\\Anaconda3\\lib\\site-packages\\ipykernel_launcher.py:6: SettingWithCopyWarning: \n",
      "A value is trying to be set on a copy of a slice from a DataFrame\n",
      "\n",
      "See the caveats in the documentation: http://pandas.pydata.org/pandas-docs/stable/indexing.html#indexing-view-versus-copy\n",
      "  \n"
     ]
    }
   ],
   "source": [
    "# inputing missing values for age according to the Title\n",
    "df[\"Age_input2\"] = 0\n",
    "for row in range(1, df[\"Pclass\"].count() - 1):\n",
    "    if np.isnan(df[\"Age\"][row]):\n",
    "        df[\"Age_input2\"][row] = np.mean(\n",
    "            df[df[\"Title\"] == df[\"Title\"][row]][\"Age\"].dropna()\n",
    "        )\n",
    "    else:\n",
    "        df[\"Age_input2\"][row] = df[\"Age\"][row]"
   ]
  },
  {
   "cell_type": "code",
   "execution_count": 34,
   "metadata": {},
   "outputs": [
    {
     "data": {
      "image/png": "[encoded data removed]",
      "text/plain": [
       "<Figure size 432x288 with 1 Axes>"
      ]
     },
     "metadata": {},
     "output_type": "display_data"
    }
   ],
   "source": [
    "# now let's check again the distribution of the values of Age\n",
    "plt.hist(df[\"Age_input2\"].dropna(), 20)\n",
    "plt.show()"
   ]
  },
  {
   "cell_type": "code",
   "execution_count": 35,
   "metadata": {},
   "outputs": [
    {
     "data": {
      "image/png": "[encoded data removed]",
      "text/plain": [
       "<Figure size 432x288 with 1 Axes>"
      ]
     },
     "metadata": {},
     "output_type": "display_data"
    },
    {
     "data": {
      "image/png": "[encoded data removed]",
      "text/plain": [
       "<Figure size 432x288 with 1 Axes>"
      ]
     },
     "metadata": {},
     "output_type": "display_data"
    }
   ],
   "source": [
    "# let's check the difference between the two imputations\n",
    "plt.hist(df[\"Age_input1\"].dropna(), 20)\n",
    "plt.title(\"Age Distribution Imput 1\")\n",
    "plt.show()\n",
    "\n",
    "plt.hist(df[\"Age_input2\"].dropna(), 20)\n",
    "plt.title(\"Age Distribution Imput 2\")\n",
    "plt.show()"
   ]
  },
  {
   "cell_type": "markdown",
   "metadata": {},
   "source": [
    "We can see that the second method provided slightly more variety and nuances in the imputed data, so this will be the selected result for the Age imputation"
   ]
  },
  {
   "cell_type": "code",
   "execution_count": 36,
   "metadata": {},
   "outputs": [
    {
     "data": {
      "text/plain": [
       "Survived         0\n",
       "Pclass           0\n",
       "Name             0\n",
       "Sex              0\n",
       "Age              0\n",
       "SibSp            0\n",
       "Parch            0\n",
       "Ticket           0\n",
       "Fare             0\n",
       "Cabin          687\n",
       "Embarked         2\n",
       "SibSp_dummy      0\n",
       "Parch_dummy      0\n",
       "Title            0\n",
       "dtype: int64"
      ]
     },
     "execution_count": 36,
     "metadata": {},
     "output_type": "execute_result"
    }
   ],
   "source": [
    "# set the definitive values of Age\n",
    "df[\"Age\"] = df[\"Age_input2\"]\n",
    "\n",
    "# drop auxiliary columns\n",
    "df = df.drop([\"Age_input1\", \"Age_input2\", \"age_input_ref\"], axis=1)\n",
    "\n",
    "# check for missing values\n",
    "df.isnull().sum()"
   ]
  },
  {
   "cell_type": "markdown",
   "metadata": {},
   "source": [
    "We are now back with our original dataset without missing values for Age"
   ]
  },
  {
   "cell_type": "code",
   "execution_count": null,
   "metadata": {},
   "outputs": [],
   "source": []
  }
 ],
 "metadata": {
  "kernelspec": {
   "display_name": "Python 3",
   "language": "python",
   "name": "python3"
  },
  "language_info": {
   "codemirror_mode": {
    "name": "ipython",
    "version": 3
   },
   "file_extension": ".py",
   "mimetype": "text/x-python",
   "name": "python",
   "nbconvert_exporter": "python",
   "pygments_lexer": "ipython3",
   "version": "3.6.5"
  }
 },
 "nbformat": 4,
 "nbformat_minor": 2
}
